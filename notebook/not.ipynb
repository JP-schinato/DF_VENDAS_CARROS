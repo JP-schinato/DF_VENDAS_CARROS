{
 "cells": [
  {
   "cell_type": "code",
   "execution_count": 69,
   "metadata": {},
   "outputs": [],
   "source": [
    "import pandas as pd\n",
    "import numpy as np"
   ]
  },
  {
   "cell_type": "code",
   "execution_count": 68,
   "metadata": {},
   "outputs": [],
   "source": [
    "#Importando dataset\n",
    "df = pd.read_csv(r'C:\\Users\\User\\Documents\\DADOS\\Datasets 2\\vendas_carros\\DF\\Car Sales.xlsx - car_data.csv')"
   ]
  },
  {
   "cell_type": "code",
   "execution_count": 73,
   "metadata": {},
   "outputs": [
    {
     "data": {
      "text/html": [
       "<div>\n",
       "<style scoped>\n",
       "    .dataframe tbody tr th:only-of-type {\n",
       "        vertical-align: middle;\n",
       "    }\n",
       "\n",
       "    .dataframe tbody tr th {\n",
       "        vertical-align: top;\n",
       "    }\n",
       "\n",
       "    .dataframe thead th {\n",
       "        text-align: right;\n",
       "    }\n",
       "</style>\n",
       "<table border=\"1\" class=\"dataframe\">\n",
       "  <thead>\n",
       "    <tr style=\"text-align: right;\">\n",
       "      <th></th>\n",
       "      <th>Car_id</th>\n",
       "      <th>Date</th>\n",
       "      <th>Customer Name</th>\n",
       "      <th>Gender</th>\n",
       "      <th>Annual Income</th>\n",
       "      <th>Dealer_Name</th>\n",
       "      <th>Company</th>\n",
       "      <th>Model</th>\n",
       "      <th>Engine</th>\n",
       "      <th>Transmission</th>\n",
       "      <th>Color</th>\n",
       "      <th>Price ($)</th>\n",
       "      <th>Dealer_No</th>\n",
       "      <th>Body Style</th>\n",
       "      <th>Phone</th>\n",
       "      <th>Dealer_Region</th>\n",
       "    </tr>\n",
       "  </thead>\n",
       "  <tbody>\n",
       "    <tr>\n",
       "      <th>0</th>\n",
       "      <td>C_CND_000001</td>\n",
       "      <td>1/2/2022</td>\n",
       "      <td>Geraldine</td>\n",
       "      <td>Male</td>\n",
       "      <td>13500</td>\n",
       "      <td>Buddy Storbeck's Diesel Service Inc</td>\n",
       "      <td>Ford</td>\n",
       "      <td>Expedition</td>\n",
       "      <td>DoubleÂ Overhead Camshaft</td>\n",
       "      <td>Auto</td>\n",
       "      <td>Black</td>\n",
       "      <td>26000</td>\n",
       "      <td>06457-3834</td>\n",
       "      <td>SUV</td>\n",
       "      <td>8264678</td>\n",
       "      <td>Middletown</td>\n",
       "    </tr>\n",
       "    <tr>\n",
       "      <th>1</th>\n",
       "      <td>C_CND_000002</td>\n",
       "      <td>1/2/2022</td>\n",
       "      <td>Gia</td>\n",
       "      <td>Male</td>\n",
       "      <td>1480000</td>\n",
       "      <td>C &amp; M Motors Inc</td>\n",
       "      <td>Dodge</td>\n",
       "      <td>Durango</td>\n",
       "      <td>DoubleÂ Overhead Camshaft</td>\n",
       "      <td>Auto</td>\n",
       "      <td>Black</td>\n",
       "      <td>19000</td>\n",
       "      <td>60504-7114</td>\n",
       "      <td>SUV</td>\n",
       "      <td>6848189</td>\n",
       "      <td>Aurora</td>\n",
       "    </tr>\n",
       "    <tr>\n",
       "      <th>2</th>\n",
       "      <td>C_CND_000003</td>\n",
       "      <td>1/2/2022</td>\n",
       "      <td>Gianna</td>\n",
       "      <td>Male</td>\n",
       "      <td>1035000</td>\n",
       "      <td>Capitol KIA</td>\n",
       "      <td>Cadillac</td>\n",
       "      <td>Eldorado</td>\n",
       "      <td>Overhead Camshaft</td>\n",
       "      <td>Manual</td>\n",
       "      <td>Red</td>\n",
       "      <td>31500</td>\n",
       "      <td>38701-8047</td>\n",
       "      <td>Passenger</td>\n",
       "      <td>7298798</td>\n",
       "      <td>Greenville</td>\n",
       "    </tr>\n",
       "    <tr>\n",
       "      <th>3</th>\n",
       "      <td>C_CND_000004</td>\n",
       "      <td>1/2/2022</td>\n",
       "      <td>Giselle</td>\n",
       "      <td>Male</td>\n",
       "      <td>13500</td>\n",
       "      <td>Chrysler of Tri-Cities</td>\n",
       "      <td>Toyota</td>\n",
       "      <td>Celica</td>\n",
       "      <td>Overhead Camshaft</td>\n",
       "      <td>Manual</td>\n",
       "      <td>Pale White</td>\n",
       "      <td>14000</td>\n",
       "      <td>99301-3882</td>\n",
       "      <td>SUV</td>\n",
       "      <td>6257557</td>\n",
       "      <td>Pasco</td>\n",
       "    </tr>\n",
       "    <tr>\n",
       "      <th>4</th>\n",
       "      <td>C_CND_000005</td>\n",
       "      <td>1/2/2022</td>\n",
       "      <td>Grace</td>\n",
       "      <td>Male</td>\n",
       "      <td>1465000</td>\n",
       "      <td>Chrysler Plymouth</td>\n",
       "      <td>Acura</td>\n",
       "      <td>TL</td>\n",
       "      <td>DoubleÂ Overhead Camshaft</td>\n",
       "      <td>Auto</td>\n",
       "      <td>Red</td>\n",
       "      <td>24500</td>\n",
       "      <td>53546-9427</td>\n",
       "      <td>Hatchback</td>\n",
       "      <td>7081483</td>\n",
       "      <td>Janesville</td>\n",
       "    </tr>\n",
       "  </tbody>\n",
       "</table>\n",
       "</div>"
      ],
      "text/plain": [
       "         Car_id      Date Customer Name Gender  Annual Income  \\\n",
       "0  C_CND_000001  1/2/2022     Geraldine   Male          13500   \n",
       "1  C_CND_000002  1/2/2022           Gia   Male        1480000   \n",
       "2  C_CND_000003  1/2/2022        Gianna   Male        1035000   \n",
       "3  C_CND_000004  1/2/2022       Giselle   Male          13500   \n",
       "4  C_CND_000005  1/2/2022         Grace   Male        1465000   \n",
       "\n",
       "                           Dealer_Name   Company       Model  \\\n",
       "0  Buddy Storbeck's Diesel Service Inc      Ford  Expedition   \n",
       "1                     C & M Motors Inc     Dodge     Durango   \n",
       "2                          Capitol KIA  Cadillac    Eldorado   \n",
       "3               Chrysler of Tri-Cities    Toyota      Celica   \n",
       "4                    Chrysler Plymouth     Acura          TL   \n",
       "\n",
       "                      Engine Transmission       Color  Price ($)  Dealer_No   \\\n",
       "0  DoubleÂ Overhead Camshaft         Auto       Black      26000  06457-3834   \n",
       "1  DoubleÂ Overhead Camshaft         Auto       Black      19000  60504-7114   \n",
       "2          Overhead Camshaft       Manual         Red      31500  38701-8047   \n",
       "3          Overhead Camshaft       Manual  Pale White      14000  99301-3882   \n",
       "4  DoubleÂ Overhead Camshaft         Auto         Red      24500  53546-9427   \n",
       "\n",
       "  Body Style    Phone Dealer_Region  \n",
       "0        SUV  8264678    Middletown  \n",
       "1        SUV  6848189        Aurora  \n",
       "2  Passenger  7298798    Greenville  \n",
       "3        SUV  6257557         Pasco  \n",
       "4  Hatchback  7081483    Janesville  "
      ]
     },
     "execution_count": 73,
     "metadata": {},
     "output_type": "execute_result"
    }
   ],
   "source": [
    "#Visualizando dt\n",
    "df.head()"
   ]
  },
  {
   "cell_type": "markdown",
   "metadata": {},
   "source": [
    "Entendendo DataSet\n",
    "\n",
    "Car_id corresponde ao id do carro \"Chave Primária\"\n",
    "\n",
    "Date corresponde a data de compra do veículo\n",
    "\n",
    "Customer Name\tcorresponde ao nome do cliente\n",
    "\n",
    "Gender corresponde ao Gênero do cliente\n",
    "\n",
    "Annual Income corresponde a renda anual\n",
    "\n",
    "Dealer_Name corresponde ao nome do revendedor\n",
    "\n",
    "Company responde a compania ou marca do veículo\n",
    "\n",
    "Model corresponde ao modelo do veículo\n",
    "\n",
    "Engine corresponde ao motor do veículo\n",
    "\n",
    "Transmission corresponde a transmissão do carro se ele é automático ou manual\n",
    "\n",
    "Color corresponde a cor do carro~\n",
    "\n",
    "Price corresponde ao valor do carro\n",
    "\n",
    "Dealer_No corresponde a numeração da revendedora do veículo\n",
    "\n",
    "Body Style\t corresponde ao estilo corporal do carro\n",
    "\n",
    "Phone corresponde ao telefone do cliente\n",
    "\n",
    "Dealer_Region corresponde a região do revendedor\n"
   ]
  },
  {
   "cell_type": "code",
   "execution_count": 75,
   "metadata": {},
   "outputs": [],
   "source": [
    "#Traduzindo nome das colunas para PT-BR\n",
    "df.rename(columns={'Car_id' : 'ID_Carro',\t'Date' : 'Data',\t'Customer Name' : 'Nome do Cliente',\t'Gender'\t: 'Gênero', 'Annual Income' : 'Renda Anual',\t'Dealer_Name' : 'Nome do Revendedor',\t'Company' : 'Compania/Marca',\t'Model' :  'Modelo',\t'Engine' : 'Motor',\t'Transmission' : 'Transmissão',\t'Color'\t:   'Cor', 'Price ($)' : 'Preço',\t'Dealer_No' : 'Numeração_R'\n",
    "'evendedora ' ,\t'Body Style' : 'Estilo_do_Corpo_do_Veículo', 'Phone' : 'Numero do telefone',\t'Dealer_Region' : 'Região do Revendedor'}, inplace=True)"
   ]
  },
  {
   "cell_type": "code",
   "execution_count": 80,
   "metadata": {},
   "outputs": [],
   "source": [
    "df.rename(columns={'Nome do Cliente' : 'Nome_Cliente'}, inplace=True)"
   ]
  },
  {
   "cell_type": "code",
   "execution_count": 76,
   "metadata": {},
   "outputs": [],
   "source": [
    "df.rename(columns={'Estilo do Corpo do Veículo' : 'Estilo_do_Corpo_do_Veículo'}, inplace=True)"
   ]
  },
  {
   "cell_type": "code",
   "execution_count": 77,
   "metadata": {},
   "outputs": [
    {
     "data": {
      "text/html": [
       "<div>\n",
       "<style scoped>\n",
       "    .dataframe tbody tr th:only-of-type {\n",
       "        vertical-align: middle;\n",
       "    }\n",
       "\n",
       "    .dataframe tbody tr th {\n",
       "        vertical-align: top;\n",
       "    }\n",
       "\n",
       "    .dataframe thead th {\n",
       "        text-align: right;\n",
       "    }\n",
       "</style>\n",
       "<table border=\"1\" class=\"dataframe\">\n",
       "  <thead>\n",
       "    <tr style=\"text-align: right;\">\n",
       "      <th></th>\n",
       "      <th>ID_Carro</th>\n",
       "      <th>Data</th>\n",
       "      <th>Nome do Cliente</th>\n",
       "      <th>Gênero</th>\n",
       "      <th>Renda Anual</th>\n",
       "      <th>Nome do Revendedor</th>\n",
       "      <th>Compania/Marca</th>\n",
       "      <th>Modelo</th>\n",
       "      <th>Motor</th>\n",
       "      <th>Transmissão</th>\n",
       "      <th>Cor</th>\n",
       "      <th>Preço</th>\n",
       "      <th>Dealer_No</th>\n",
       "      <th>Estilo_do_Corpo_do_Veículo</th>\n",
       "      <th>Numero do telefone</th>\n",
       "      <th>Região do Revendedor</th>\n",
       "    </tr>\n",
       "  </thead>\n",
       "  <tbody>\n",
       "  </tbody>\n",
       "</table>\n",
       "</div>"
      ],
      "text/plain": [
       "Empty DataFrame\n",
       "Columns: [ID_Carro, Data, Nome do Cliente, Gênero, Renda Anual, Nome do Revendedor, Compania/Marca, Modelo, Motor, Transmissão, Cor, Preço, Dealer_No , Estilo_do_Corpo_do_Veículo, Numero do telefone, Região do Revendedor]\n",
       "Index: []"
      ]
     },
     "execution_count": 77,
     "metadata": {},
     "output_type": "execute_result"
    }
   ],
   "source": [
    "#Vizualizando colunas\n",
    "df.head(0)"
   ]
  },
  {
   "cell_type": "code",
   "execution_count": 62,
   "metadata": {},
   "outputs": [],
   "source": [
    "#Traduzindo a coluna de Gêneros\n",
    "df\n",
    "df.replace({'Male' : 'Masculino', 'Female' : 'Feminino'}, inplace=True)"
   ]
  },
  {
   "cell_type": "code",
   "execution_count": null,
   "metadata": {},
   "outputs": [
    {
     "data": {
      "text/plain": [
       "array(['Masculino', 'Feminino'], dtype=object)"
      ]
     },
     "execution_count": 37,
     "metadata": {},
     "output_type": "execute_result"
    }
   ],
   "source": [
    "#Verificando se foi traduzido a coluna de Gêneros\n",
    "df.Gênero.unique()"
   ]
  },
  {
   "cell_type": "markdown",
   "metadata": {},
   "source": [
    "Verificando se tem colunas com valores nulos\n",
    "\n",
    "Retiramos os valores nulos para ajudar o nosso estudo ja que alguns DataSets possuem alguns valores nulos"
   ]
  },
  {
   "cell_type": "code",
   "execution_count": 81,
   "metadata": {},
   "outputs": [
    {
     "data": {
      "text/plain": [
       "ID_Carro                      0\n",
       "Data                          0\n",
       "Nome_Cliente                  1\n",
       "Gênero                        0\n",
       "Renda Anual                   0\n",
       "Nome do Revendedor            0\n",
       "Compania/Marca                0\n",
       "Modelo                        0\n",
       "Motor                         0\n",
       "Transmissão                   0\n",
       "Cor                           0\n",
       "Preço                         0\n",
       "Dealer_No                     0\n",
       "Estilo_do_Corpo_do_Veículo    0\n",
       "Numero do telefone            0\n",
       "Região do Revendedor          0\n",
       "dtype: int64"
      ]
     },
     "execution_count": 81,
     "metadata": {},
     "output_type": "execute_result"
    }
   ],
   "source": [
    " #Verificando se tem colunas com valores nulos\n",
    "df.isnull().sum()"
   ]
  },
  {
   "cell_type": "code",
   "execution_count": 85,
   "metadata": {},
   "outputs": [
    {
     "data": {
      "text/plain": [
       "ID_Carro                      0\n",
       "Data                          0\n",
       "Nome_Cliente                  0\n",
       "Gênero                        0\n",
       "Renda Anual                   0\n",
       "Nome do Revendedor            0\n",
       "Compania/Marca                0\n",
       "Modelo                        0\n",
       "Motor                         0\n",
       "Transmissão                   0\n",
       "Cor                           0\n",
       "Preço                         0\n",
       "Dealer_No                     0\n",
       "Estilo_do_Corpo_do_Veículo    0\n",
       "Numero do telefone            0\n",
       "Região do Revendedor          0\n",
       "dtype: int64"
      ]
     },
     "execution_count": 85,
     "metadata": {},
     "output_type": "execute_result"
    }
   ],
   "source": [
    "#Alterando o valor nulo da coluna do nome dos clientes como Descinhecido\n",
    "df.Nome_Cliente.fillna('Desconhecido', inplace=True)\n",
    "#Verificando se ainda tem algum valor nulo no dataset\n",
    "df.isnull().sum()"
   ]
  },
  {
   "cell_type": "markdown",
   "metadata": {},
   "source": [
    "Alteração de dados\n",
    "\n",
    "Alterei os dados pois valores com dados errados prejudica o andamento da analise atrapalhando assim atrapalhando os nossos estudos"
   ]
  },
  {
   "cell_type": "code",
   "execution_count": null,
   "metadata": {},
   "outputs": [
    {
     "data": {
      "text/plain": [
       "ID_Carro                      object\n",
       "Data                          object\n",
       "Nome_Cliente                  object\n",
       "Gênero                        object\n",
       "Renda Anual                    int64\n",
       "Nome do Revendedor            object\n",
       "Compania/Marca                object\n",
       "Modelo                        object\n",
       "Motor                         object\n",
       "Transmissão                   object\n",
       "Cor                           object\n",
       "Preço                          int64\n",
       "Dealer_No                     object\n",
       "Estilo_do_Corpo_do_Veículo    object\n",
       "Numero do telefone             int64\n",
       "Região do Revendedor          object\n",
       "dtype: object"
      ]
     },
     "execution_count": 87,
     "metadata": {},
     "output_type": "execute_result"
    }
   ],
   "source": [
    "#Verificando se tem colunas com dados errados\n",
    "df.dtypes"
   ]
  },
  {
   "cell_type": "code",
   "execution_count": null,
   "metadata": {},
   "outputs": [
    {
     "data": {
      "text/plain": [
       "ID_Carro                              object\n",
       "Data                          datetime64[ns]\n",
       "Nome_Cliente                          object\n",
       "Gênero                                object\n",
       "Renda Anual                            int64\n",
       "Nome do Revendedor                    object\n",
       "Compania/Marca                        object\n",
       "Modelo                                object\n",
       "Motor                                 object\n",
       "Transmissão                           object\n",
       "Cor                                   object\n",
       "Preço                                  int64\n",
       "Dealer_No                             object\n",
       "Estilo_do_Corpo_do_Veículo            object\n",
       "Numero do telefone                     int64\n",
       "Região do Revendedor                  object\n",
       "dtype: object"
      ]
     },
     "execution_count": 92,
     "metadata": {},
     "output_type": "execute_result"
    }
   ],
   "source": [
    "#alterando a data para para date\n",
    "df['Data'] = df['Data'].astype('datetime64[ns]')\n",
    "#conferindo\n",
    "df.dtypes"
   ]
  }
 ],
 "metadata": {
  "kernelspec": {
   "display_name": "base",
   "language": "python",
   "name": "python3"
  },
  "language_info": {
   "codemirror_mode": {
    "name": "ipython",
    "version": 3
   },
   "file_extension": ".py",
   "mimetype": "text/x-python",
   "name": "python",
   "nbconvert_exporter": "python",
   "pygments_lexer": "ipython3",
   "version": "3.12.7"
  }
 },
 "nbformat": 4,
 "nbformat_minor": 2
}
